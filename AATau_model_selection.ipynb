{
 "cells": [
  {
   "cell_type": "code",
   "execution_count": 1,
   "metadata": {
    "collapsed": true
   },
   "outputs": [],
   "source": [
    "%matplotlib inline\n",
    "import matplotlib.pyplot as plt\n",
    "\n",
    "import numpy as np\n",
    "\n",
    "import ipywidgets as widgets\n",
    "from ipywidgets import interact"
   ]
  },
  {
   "cell_type": "code",
   "execution_count": 2,
   "metadata": {},
   "outputs": [],
   "source": [
    "run 'utils/getFMext.py'"
   ]
  },
  {
   "cell_type": "code",
   "execution_count": 3,
   "metadata": {
    "collapsed": true
   },
   "outputs": [],
   "source": [
    "run 'utils/getMag.py'   "
   ]
  },
  {
   "cell_type": "code",
   "execution_count": 4,
   "metadata": {},
   "outputs": [
    {
     "data": {
      "application/vnd.jupyter.widget-view+json": {
       "model_id": "dd44e03564c4467f81a6d92b0afb202c"
      }
     },
     "metadata": {},
     "output_type": "display_data"
    }
   ],
   "source": [
    "@interact(Av=(0, 5, .2), Rv=(2, 5, .5))\n",
    "def f(Av, Rv):\n",
    "    fig,[[ax1,ax2],[ax3,ax4]]=plt.subplots(2,2,figsize=(12,10))\n",
    "    x1,f1=np.loadtxt('AATau_IR2008.txt',unpack=True)\n",
    "    x2,f2=np.loadtxt('AATau_opt2008.txt',unpack=True)\n",
    "    x3,f3=np.loadtxt('AATau_IR2014dec02.txt',unpack=True)\n",
    "    x4,f4=np.loadtxt('AATau_opt2014dec02.txt',unpack=True)\n",
    "    \n",
    "    # mask out the NaNs:\n",
    "    def maskNans(wavelength,data):\n",
    "        masked_data=data[np.logical_not(np.isnan(data))]\n",
    "        masked_wavelength=wavelength[np.logical_not(np.isnan(data))]\n",
    "        return (masked_wavelength,masked_data)\n",
    "\n",
    "    x1,f1=maskNans(x1,f1)\n",
    "    x2,f2=maskNans(x2,f2)\n",
    "    x3,f3=maskNans(x3,f3)\n",
    "    x4,f4=maskNans(x4,f4)\n",
    "    \n",
    "    xobs1,fobs1=np.append(x2,x1)[1500:],np.append(f2,f1)[1500:]\n",
    "    xobs2,fobs2=np.append(x4,x3)[500:],np.append(f4,f3)[500:]\n",
    "    \n",
    "    fobs1ext = fobs1 * 10.**(-0.4*Av*getFMext(xobs1,Rv,'fmunred')/Rv)\n",
    "    \n",
    "    ax1.plot(xobs1, fobs1, label='2008',color='blue')\n",
    "    ax1.set_ylim(0,0.8E-13)\n",
    "    ax1.set_xlabel('$\\lambda$')\n",
    "    ax1.set_ylabel('$F_\\lambda$')    \n",
    "    ax1.plot(xobs2, fobs2, label='2014',color='red')\n",
    "    ax1.plot(xobs1, fobs1ext, label=\"ext'd 2008\",color='black',alpha=0.6)\n",
    "    ax1.legend(loc='best')\n",
    "\n",
    "    ax2.plot(1./xobs1, fobs1, color='blue')\n",
    "    ax2.set_ylim(0,0.8E-13)\n",
    "    ax2.set_xlabel('1/$\\lambda$')\n",
    "    ax2.set_ylabel('$F_\\lambda$')    \n",
    "    ax2.plot(1./xobs2, fobs2, color='red')\n",
    "    ax2.plot(1./xobs1, fobs1ext, color='black', alpha=0.6)\n",
    "    \n",
    "    J1=getMag('J', xobs1, 10.*fobs1)\n",
    "    H1=getMag('H', xobs1, 10.*fobs1)\n",
    "    Ks1=getMag('Ks', xobs1, 10.*fobs1)\n",
    "    V1=getMag('V', xobs1, 10.*fobs1)\n",
    "    R1=getMag('R', xobs1, 10.*fobs1)\n",
    "\n",
    "    J2=getMag('J', xobs2, 10.*fobs2)\n",
    "    H2=getMag('H', xobs2, 10.*fobs2)\n",
    "    Ks2=getMag('Ks', xobs2, 10.*fobs2)\n",
    "    V2=getMag('V', xobs2, 10.*fobs2)\n",
    "    R2=getMag('R', xobs2, 10.*fobs2)\n",
    "\n",
    "    J1ext=getMag('J', xobs1, 10.*fobs1ext)\n",
    "    H1ext=getMag('H', xobs1, 10.*fobs1ext)\n",
    "    Ks1ext=getMag('Ks', xobs1, 10.*fobs1ext)\n",
    "    V1ext=getMag('V', xobs1, 10.*fobs1ext)\n",
    "    R1ext=getMag('R', xobs1, 10.*fobs1ext)\n",
    "\n",
    "    ax3.plot(H1-Ks1,J1-H1,'o',color='blue')\n",
    "    ax3.set_xlabel('H-Ks')\n",
    "    ax3.set_ylabel('J-H')\n",
    "    ax3.plot(H2-Ks2,J2-H2,'o',color='red')\n",
    "    ax3.plot(H1ext-Ks1ext,J1ext-H1ext,'o',color='black')\n",
    "    ax3.plot([H1-Ks1,H2-Ks2],[J1-H1,J2-H2],color='red')\n",
    "    ax3.plot([H1-Ks1,H1ext-Ks1ext],[J1-H1,J1ext-H1ext],color='black')\n",
    "    \n",
    "    ax4.plot(V1-R1,V1,'o',color='blue')\n",
    "    ax4.set_xlabel('V-R')\n",
    "    ax4.set_ylabel('V')\n",
    "    ax4.plot(V2-R2,V2,'o',color='red')\n",
    "    ax4.plot(V1ext-R1ext,V1ext,'o',color='black')\n",
    "    ax4.plot([V1-R1,V2-R2],[V1,V2],color='red')\n",
    "    ax4.plot([V1-R1,V1ext-R1ext],[V1,V1ext],color='black')\n",
    "\n",
    "    plt.show()"
   ]
  },
  {
   "cell_type": "code",
   "execution_count": null,
   "metadata": {
    "collapsed": true
   },
   "outputs": [],
   "source": []
  },
  {
   "cell_type": "code",
   "execution_count": null,
   "metadata": {
    "collapsed": true
   },
   "outputs": [],
   "source": []
  }
 ],
 "metadata": {
  "kernelspec": {
   "display_name": "Python [conda root]",
   "language": "python",
   "name": "conda-root-py"
  },
  "language_info": {
   "codemirror_mode": {
    "name": "ipython",
    "version": 3
   },
   "file_extension": ".py",
   "mimetype": "text/x-python",
   "name": "python",
   "nbconvert_exporter": "python",
   "pygments_lexer": "ipython3",
   "version": "3.5.3"
  }
 },
 "nbformat": 4,
 "nbformat_minor": 2
}
